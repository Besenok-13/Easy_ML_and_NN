{
 "cells": [
  {
   "attachments": {},
   "cell_type": "markdown",
   "metadata": {},
   "source": [
    "Энергодисперсионная рентгеновская флуоресценция (EDXRF) была использована для определения химического состава тела селадона и глазури в печи Лонгкуан (в уезде Даяо) и печи Цзиндэчжэнь. Для исследования сырья и технологии обжига были отобраны 40 типичных черепков четырех культурных эпох. Мы надеемся определить химические элементы, которые являются наиболее сильными объясняющими переменными для классификации образцов по различным культурным эпохам и печам."
   ]
  },
  {
   "attachments": {},
   "cell_type": "markdown",
   "metadata": {},
   "source": [
    "Ceramic.Name: название типов керамики из Лунцюаня и Цзинджэчжэня\n",
    "\n",
    "Часть: бинарная категориальная переменная (\"тело\" или \"глазурь\")\n",
    "\n",
    "Na2O: процентное содержание Na2O (масс. %)\n",
    "\n",
    "MgO: процентное содержание MgO (масс. %)\n",
    "\n",
    "Al2O3: процентное содержание AI2O3 (масс. %)\n",
    "\n",
    "SiO2: процентное содержание SiO2 (масс. %)\n",
    "\n",
    "K2O: процентное содержание K2O (масс. %)\n",
    "\n",
    "CaO: процентное содержание CaO (масс. %)\n",
    "\n",
    "TiO2: процентное содержание TiO2 (масс. %)\n",
    "\n",
    "Fe2O3: процентное содержание Fe2O3 (масс. %)\n",
    "\n",
    "MnO: процентное содержание MnO (ppm)\n",
    "\n",
    "CuO: процентное содержание CuO (ppm)\n",
    "\n",
    "ZnO: процентное содержание ZnO (ppm)\n",
    "\n",
    "PbO2: процентное содержание PbO2 (ppm)\n",
    "\n",
    "Rb2O: процентное содержание Rb2O (ppm)\n",
    "\n",
    "SrO: процентное содержание SrO (ppm)\n",
    "\n",
    "Y2O3: процентное содержание Y2O3 (ppm)\n",
    "\n",
    "ZrO2: процентное содержание ZrO2 (ppm)\n",
    "\n",
    "P2O5: процентное содержание P2O5 (ppm)\n"
   ]
  },
  {
   "attachments": {},
   "cell_type": "markdown",
   "metadata": {},
   "source": [
    "## Проанализовать предметную область и выбрать метрику оценки качества кластеризации\n",
    "\n",
    "## Отобрать признаки\n",
    "\n",
    "## Реализовать алгоритмы k-menas++ и DBSCAN\n",
    "\n",
    "## Проверить качество кластеризации по выбранной метрике"
   ]
  },
  {
   "attachments": {},
   "cell_type": "markdown",
   "metadata": {},
   "source": [
    "K-means++ — это интеллектуальный метод инициализации центроида для алгоритма K-mean. Цель состоит в том, чтобы распределить начальный центроид, назначив первый центроид случайным образом, а затем выбрав остальные центроиды на основе максимального квадрата расстояния. Идея состоит в том, чтобы отодвинуть центроиды как можно дальше друг от друга."
   ]
  },
  {
   "cell_type": "code",
   "execution_count": 21,
   "metadata": {},
   "outputs": [
    {
     "data": {
      "text/plain": [
       "Ceramic Name    0\n",
       "Part            0\n",
       "Na2O            0\n",
       "MgO             0\n",
       "Al2O3           0\n",
       "SiO2            0\n",
       "K2O             0\n",
       "CaO             0\n",
       "TiO2            0\n",
       "Fe2O3           0\n",
       "MnO             0\n",
       "CuO             0\n",
       "ZnO             0\n",
       "PbO2            0\n",
       "Rb2O            0\n",
       "SrO             0\n",
       "Y2O3            0\n",
       "ZrO2            0\n",
       "P2O5            0\n",
       "dtype: int64"
      ]
     },
     "execution_count": 21,
     "metadata": {},
     "output_type": "execute_result"
    }
   ],
   "source": [
    "import pandas as pd\n",
    "import numpy as np\n",
    "import re\n",
    "data = pd.read_csv(\"./Chemical_Composion_of_Ceramic.csv\")\n",
    "import matplotlib.pyplot as plt\n",
    "#проверяем на null\n",
    "data.isna().sum()"
   ]
  },
  {
   "cell_type": "code",
   "execution_count": 22,
   "metadata": {},
   "outputs": [
    {
     "name": "stdout",
     "output_type": "stream",
     "text": [
      "['FLQ-b' 'DY-BS-b' 'DY-NS-b' 'DY-Y-b' 'DY-M-b' 'DY-QC-b' 'FLQ-g' 'DY-BS-g'\n",
      " 'DY-NS-g' 'DY-Y-g' 'DY-M-g' 'DY-QC-g']\n"
     ]
    },
    {
     "data": {
      "text/html": [
       "<div>\n",
       "<style scoped>\n",
       "    .dataframe tbody tr th:only-of-type {\n",
       "        vertical-align: middle;\n",
       "    }\n",
       "\n",
       "    .dataframe tbody tr th {\n",
       "        vertical-align: top;\n",
       "    }\n",
       "\n",
       "    .dataframe thead th {\n",
       "        text-align: right;\n",
       "    }\n",
       "</style>\n",
       "<table border=\"1\" class=\"dataframe\">\n",
       "  <thead>\n",
       "    <tr style=\"text-align: right;\">\n",
       "      <th></th>\n",
       "      <th>Ceramic Name</th>\n",
       "      <th>Part</th>\n",
       "      <th>Na2O</th>\n",
       "      <th>MgO</th>\n",
       "      <th>Al2O3</th>\n",
       "      <th>SiO2</th>\n",
       "      <th>K2O</th>\n",
       "      <th>CaO</th>\n",
       "      <th>TiO2</th>\n",
       "      <th>Fe2O3</th>\n",
       "      <th>MnO</th>\n",
       "      <th>CuO</th>\n",
       "      <th>ZnO</th>\n",
       "      <th>PbO2</th>\n",
       "      <th>Rb2O</th>\n",
       "      <th>SrO</th>\n",
       "      <th>Y2O3</th>\n",
       "      <th>ZrO2</th>\n",
       "      <th>P2O5</th>\n",
       "    </tr>\n",
       "  </thead>\n",
       "  <tbody>\n",
       "    <tr>\n",
       "      <th>0</th>\n",
       "      <td>FLQ-b</td>\n",
       "      <td>Body</td>\n",
       "      <td>0.62</td>\n",
       "      <td>0.38</td>\n",
       "      <td>19.61</td>\n",
       "      <td>71.99</td>\n",
       "      <td>4.84</td>\n",
       "      <td>0.31</td>\n",
       "      <td>0.07</td>\n",
       "      <td>1.18</td>\n",
       "      <td>630</td>\n",
       "      <td>10</td>\n",
       "      <td>70</td>\n",
       "      <td>10</td>\n",
       "      <td>430</td>\n",
       "      <td>0</td>\n",
       "      <td>40</td>\n",
       "      <td>80</td>\n",
       "      <td>90</td>\n",
       "    </tr>\n",
       "    <tr>\n",
       "      <th>1</th>\n",
       "      <td>FLQ-b</td>\n",
       "      <td>Body</td>\n",
       "      <td>0.57</td>\n",
       "      <td>0.47</td>\n",
       "      <td>21.19</td>\n",
       "      <td>70.09</td>\n",
       "      <td>4.98</td>\n",
       "      <td>0.49</td>\n",
       "      <td>0.09</td>\n",
       "      <td>1.12</td>\n",
       "      <td>380</td>\n",
       "      <td>20</td>\n",
       "      <td>80</td>\n",
       "      <td>40</td>\n",
       "      <td>430</td>\n",
       "      <td>-10</td>\n",
       "      <td>40</td>\n",
       "      <td>100</td>\n",
       "      <td>110</td>\n",
       "    </tr>\n",
       "    <tr>\n",
       "      <th>2</th>\n",
       "      <td>FLQ-b</td>\n",
       "      <td>Body</td>\n",
       "      <td>0.49</td>\n",
       "      <td>0.19</td>\n",
       "      <td>18.60</td>\n",
       "      <td>74.70</td>\n",
       "      <td>3.47</td>\n",
       "      <td>0.43</td>\n",
       "      <td>0.06</td>\n",
       "      <td>1.07</td>\n",
       "      <td>420</td>\n",
       "      <td>20</td>\n",
       "      <td>50</td>\n",
       "      <td>50</td>\n",
       "      <td>380</td>\n",
       "      <td>40</td>\n",
       "      <td>40</td>\n",
       "      <td>80</td>\n",
       "      <td>200</td>\n",
       "    </tr>\n",
       "    <tr>\n",
       "      <th>3</th>\n",
       "      <td>FLQ-b</td>\n",
       "      <td>Body</td>\n",
       "      <td>0.89</td>\n",
       "      <td>0.30</td>\n",
       "      <td>18.01</td>\n",
       "      <td>74.19</td>\n",
       "      <td>4.01</td>\n",
       "      <td>0.27</td>\n",
       "      <td>0.09</td>\n",
       "      <td>1.23</td>\n",
       "      <td>460</td>\n",
       "      <td>20</td>\n",
       "      <td>70</td>\n",
       "      <td>60</td>\n",
       "      <td>380</td>\n",
       "      <td>10</td>\n",
       "      <td>40</td>\n",
       "      <td>70</td>\n",
       "      <td>210</td>\n",
       "    </tr>\n",
       "    <tr>\n",
       "      <th>4</th>\n",
       "      <td>FLQ-b</td>\n",
       "      <td>Body</td>\n",
       "      <td>0.03</td>\n",
       "      <td>0.36</td>\n",
       "      <td>18.41</td>\n",
       "      <td>73.99</td>\n",
       "      <td>4.33</td>\n",
       "      <td>0.65</td>\n",
       "      <td>0.05</td>\n",
       "      <td>1.19</td>\n",
       "      <td>380</td>\n",
       "      <td>40</td>\n",
       "      <td>90</td>\n",
       "      <td>40</td>\n",
       "      <td>360</td>\n",
       "      <td>10</td>\n",
       "      <td>30</td>\n",
       "      <td>80</td>\n",
       "      <td>150</td>\n",
       "    </tr>\n",
       "  </tbody>\n",
       "</table>\n",
       "</div>"
      ],
      "text/plain": [
       "  Ceramic Name  Part  Na2O   MgO  Al2O3   SiO2   K2O   CaO  TiO2  Fe2O3  MnO  \\\n",
       "0        FLQ-b  Body  0.62  0.38  19.61  71.99  4.84  0.31  0.07   1.18  630   \n",
       "1        FLQ-b  Body  0.57  0.47  21.19  70.09  4.98  0.49  0.09   1.12  380   \n",
       "2        FLQ-b  Body  0.49  0.19  18.60  74.70  3.47  0.43  0.06   1.07  420   \n",
       "3        FLQ-b  Body  0.89  0.30  18.01  74.19  4.01  0.27  0.09   1.23  460   \n",
       "4        FLQ-b  Body  0.03  0.36  18.41  73.99  4.33  0.65  0.05   1.19  380   \n",
       "\n",
       "   CuO  ZnO  PbO2  Rb2O  SrO  Y2O3  ZrO2  P2O5  \n",
       "0   10   70    10   430    0    40    80    90  \n",
       "1   20   80    40   430  -10    40   100   110  \n",
       "2   20   50    50   380   40    40    80   200  \n",
       "3   20   70    60   380   10    40    70   210  \n",
       "4   40   90    40   360   10    30    80   150  "
      ]
     },
     "execution_count": 22,
     "metadata": {},
     "output_type": "execute_result"
    }
   ],
   "source": [
    "#Приводим названия в единый формат\n",
    "data[\"Ceramic Name\"] = data[\"Ceramic Name\"].apply(lambda x: re.sub(r\"-\\d+\", \"\", x ))\n",
    "print(data[\"Ceramic Name\"].unique())\n",
    "data.head(5)"
   ]
  },
  {
   "cell_type": "code",
   "execution_count": 23,
   "metadata": {},
   "outputs": [
    {
     "data": {
      "text/html": [
       "<div>\n",
       "<style scoped>\n",
       "    .dataframe tbody tr th:only-of-type {\n",
       "        vertical-align: middle;\n",
       "    }\n",
       "\n",
       "    .dataframe tbody tr th {\n",
       "        vertical-align: top;\n",
       "    }\n",
       "\n",
       "    .dataframe thead th {\n",
       "        text-align: right;\n",
       "    }\n",
       "</style>\n",
       "<table border=\"1\" class=\"dataframe\">\n",
       "  <thead>\n",
       "    <tr style=\"text-align: right;\">\n",
       "      <th></th>\n",
       "      <th>Ceramic Name</th>\n",
       "      <th>Part</th>\n",
       "      <th>Na2O</th>\n",
       "      <th>MgO</th>\n",
       "      <th>Al2O3</th>\n",
       "      <th>SiO2</th>\n",
       "      <th>K2O</th>\n",
       "      <th>CaO</th>\n",
       "      <th>TiO2</th>\n",
       "      <th>Fe2O3</th>\n",
       "      <th>MnO</th>\n",
       "      <th>CuO</th>\n",
       "      <th>ZnO</th>\n",
       "      <th>PbO2</th>\n",
       "      <th>Rb2O</th>\n",
       "      <th>SrO</th>\n",
       "      <th>Y2O3</th>\n",
       "      <th>ZrO2</th>\n",
       "    </tr>\n",
       "  </thead>\n",
       "  <tbody>\n",
       "    <tr>\n",
       "      <th>0</th>\n",
       "      <td>FLQ-b</td>\n",
       "      <td>Body</td>\n",
       "      <td>0.62</td>\n",
       "      <td>0.38</td>\n",
       "      <td>19.61</td>\n",
       "      <td>71.99</td>\n",
       "      <td>4.84</td>\n",
       "      <td>0.31</td>\n",
       "      <td>0.07</td>\n",
       "      <td>1.18</td>\n",
       "      <td>630</td>\n",
       "      <td>10</td>\n",
       "      <td>70</td>\n",
       "      <td>10</td>\n",
       "      <td>430</td>\n",
       "      <td>0</td>\n",
       "      <td>40</td>\n",
       "      <td>80</td>\n",
       "    </tr>\n",
       "    <tr>\n",
       "      <th>1</th>\n",
       "      <td>FLQ-b</td>\n",
       "      <td>Body</td>\n",
       "      <td>0.57</td>\n",
       "      <td>0.47</td>\n",
       "      <td>21.19</td>\n",
       "      <td>70.09</td>\n",
       "      <td>4.98</td>\n",
       "      <td>0.49</td>\n",
       "      <td>0.09</td>\n",
       "      <td>1.12</td>\n",
       "      <td>380</td>\n",
       "      <td>20</td>\n",
       "      <td>80</td>\n",
       "      <td>40</td>\n",
       "      <td>430</td>\n",
       "      <td>-10</td>\n",
       "      <td>40</td>\n",
       "      <td>100</td>\n",
       "    </tr>\n",
       "    <tr>\n",
       "      <th>2</th>\n",
       "      <td>FLQ-b</td>\n",
       "      <td>Body</td>\n",
       "      <td>0.49</td>\n",
       "      <td>0.19</td>\n",
       "      <td>18.60</td>\n",
       "      <td>74.70</td>\n",
       "      <td>3.47</td>\n",
       "      <td>0.43</td>\n",
       "      <td>0.06</td>\n",
       "      <td>1.07</td>\n",
       "      <td>420</td>\n",
       "      <td>20</td>\n",
       "      <td>50</td>\n",
       "      <td>50</td>\n",
       "      <td>380</td>\n",
       "      <td>40</td>\n",
       "      <td>40</td>\n",
       "      <td>80</td>\n",
       "    </tr>\n",
       "    <tr>\n",
       "      <th>3</th>\n",
       "      <td>FLQ-b</td>\n",
       "      <td>Body</td>\n",
       "      <td>0.89</td>\n",
       "      <td>0.30</td>\n",
       "      <td>18.01</td>\n",
       "      <td>74.19</td>\n",
       "      <td>4.01</td>\n",
       "      <td>0.27</td>\n",
       "      <td>0.09</td>\n",
       "      <td>1.23</td>\n",
       "      <td>460</td>\n",
       "      <td>20</td>\n",
       "      <td>70</td>\n",
       "      <td>60</td>\n",
       "      <td>380</td>\n",
       "      <td>10</td>\n",
       "      <td>40</td>\n",
       "      <td>70</td>\n",
       "    </tr>\n",
       "    <tr>\n",
       "      <th>4</th>\n",
       "      <td>FLQ-b</td>\n",
       "      <td>Body</td>\n",
       "      <td>0.03</td>\n",
       "      <td>0.36</td>\n",
       "      <td>18.41</td>\n",
       "      <td>73.99</td>\n",
       "      <td>4.33</td>\n",
       "      <td>0.65</td>\n",
       "      <td>0.05</td>\n",
       "      <td>1.19</td>\n",
       "      <td>380</td>\n",
       "      <td>40</td>\n",
       "      <td>90</td>\n",
       "      <td>40</td>\n",
       "      <td>360</td>\n",
       "      <td>10</td>\n",
       "      <td>30</td>\n",
       "      <td>80</td>\n",
       "    </tr>\n",
       "  </tbody>\n",
       "</table>\n",
       "</div>"
      ],
      "text/plain": [
       "  Ceramic Name  Part  Na2O   MgO  Al2O3   SiO2   K2O   CaO  TiO2  Fe2O3  MnO  \\\n",
       "0        FLQ-b  Body  0.62  0.38  19.61  71.99  4.84  0.31  0.07   1.18  630   \n",
       "1        FLQ-b  Body  0.57  0.47  21.19  70.09  4.98  0.49  0.09   1.12  380   \n",
       "2        FLQ-b  Body  0.49  0.19  18.60  74.70  3.47  0.43  0.06   1.07  420   \n",
       "3        FLQ-b  Body  0.89  0.30  18.01  74.19  4.01  0.27  0.09   1.23  460   \n",
       "4        FLQ-b  Body  0.03  0.36  18.41  73.99  4.33  0.65  0.05   1.19  380   \n",
       "\n",
       "   CuO  ZnO  PbO2  Rb2O  SrO  Y2O3  ZrO2  \n",
       "0   10   70    10   430    0    40    80  \n",
       "1   20   80    40   430  -10    40   100  \n",
       "2   20   50    50   380   40    40    80  \n",
       "3   20   70    60   380   10    40    70  \n",
       "4   40   90    40   360   10    30    80  "
      ]
     },
     "execution_count": 23,
     "metadata": {},
     "output_type": "execute_result"
    }
   ],
   "source": [
    "data.corr()\n",
    "#Al2O3 corr CaO == -0.843\n",
    "#CaO corr Rb2O == -0.704\n",
    "#SrO corr Rb2O == -0.77   # Не пофикшено, пока с ним попробуем\n",
    "#P2O5 corr SrO=  -0.746 \n",
    "#P2O5 corr CaO=  -0.908\n",
    "#P2O5 corr Al2O3 =  - 0.767\n",
    "# Al2O3 corr Part\n",
    "#del P2O5 and  CaO\n",
    "\n",
    "#None != 0 \n",
    "\n",
    "# data.drop(['P2O5', 'CaO', \"Part\"], axis= 1 , inplace= True )\n",
    "data.drop(['P2O5'], axis= 1 , inplace= True )\n",
    "data.head()"
   ]
  },
  {
   "cell_type": "code",
   "execution_count": 24,
   "metadata": {},
   "outputs": [
    {
     "name": "stdout",
     "output_type": "stream",
     "text": [
      "0.375\n"
     ]
    },
    {
     "data": {
      "image/png": "[encoded data removed]",
      "text/plain": [
       "<Figure size 432x288 with 1 Axes>"
      ]
     },
     "metadata": {
      "needs_background": "light"
     },
     "output_type": "display_data"
    },
    {
     "name": "stdout",
     "output_type": "stream",
     "text": [
      "0.405\n"
     ]
    },
    {
     "data": {
      "image/png": "[encoded data removed]",
      "text/plain": [
       "<Figure size 432x288 with 1 Axes>"
      ]
     },
     "metadata": {
      "needs_background": "light"
     },
     "output_type": "display_data"
    },
    {
     "name": "stdout",
     "output_type": "stream",
     "text": [
      "16.205\n"
     ]
    },
    {
     "data": {
      "image/png": "[encoded data removed]",
      "text/plain": [
       "<Figure size 432x288 with 1 Axes>"
      ]
     },
     "metadata": {
      "needs_background": "light"
     },
     "output_type": "display_data"
    },
    {
     "name": "stdout",
     "output_type": "stream",
     "text": [
      "69.99000000000001\n"
     ]
    },
    {
     "data": {
      "image/png": "[encoded data removed]",
      "text/plain": [
       "<Figure size 432x288 with 1 Axes>"
      ]
     },
     "metadata": {
      "needs_background": "light"
     },
     "output_type": "display_data"
    },
    {
     "name": "stdout",
     "output_type": "stream",
     "text": [
      "5.0649999999999995\n"
     ]
    },
    {
     "data": {
      "image/png": "[encoded data removed]",
      "text/plain": [
       "<Figure size 432x288 with 1 Axes>"
      ]
     },
     "metadata": {
      "needs_background": "light"
     },
     "output_type": "display_data"
    },
    {
     "name": "stdout",
     "output_type": "stream",
     "text": [
      "2.69\n"
     ]
    },
    {
     "data": {
      "image/png": "[encoded data removed]",
      "text/plain": [
       "<Figure size 432x288 with 1 Axes>"
      ]
     },
     "metadata": {
      "needs_background": "light"
     },
     "output_type": "display_data"
    },
    {
     "name": "stdout",
     "output_type": "stream",
     "text": [
      "0.08\n"
     ]
    },
    {
     "data": {
      "image/png": "[encoded data removed]",
      "text/plain": [
       "<Figure size 432x288 with 1 Axes>"
      ]
     },
     "metadata": {
      "needs_background": "light"
     },
     "output_type": "display_data"
    },
    {
     "name": "stdout",
     "output_type": "stream",
     "text": [
      "1.51\n"
     ]
    },
    {
     "data": {
      "image/png": "[encoded data removed]",
      "text/plain": [
       "<Figure size 432x288 with 1 Axes>"
      ]
     },
     "metadata": {
      "needs_background": "light"
     },
     "output_type": "display_data"
    },
    {
     "name": "stdout",
     "output_type": "stream",
     "text": [
      "590.0\n"
     ]
    },
    {
     "data": {
      "image/png": "[encoded data removed]",
      "text/plain": [
       "<Figure size 432x288 with 1 Axes>"
      ]
     },
     "metadata": {
      "needs_background": "light"
     },
     "output_type": "display_data"
    },
    {
     "name": "stdout",
     "output_type": "stream",
     "text": [
      "30.0\n"
     ]
    },
    {
     "data": {
      "image/png": "[encoded data removed]",
      "text/plain": [
       "<Figure size 432x288 with 1 Axes>"
      ]
     },
     "metadata": {
      "needs_background": "light"
     },
     "output_type": "display_data"
    },
    {
     "name": "stdout",
     "output_type": "stream",
     "text": [
      "90.0\n"
     ]
    },
    {
     "data": {
      "image/png": "[encoded data removed]",
      "text/plain": [
       "<Figure size 432x288 with 1 Axes>"
      ]
     },
     "metadata": {
      "needs_background": "light"
     },
     "output_type": "display_data"
    },
    {
     "name": "stdout",
     "output_type": "stream",
     "text": [
      "30.0\n"
     ]
    },
    {
     "data": {
      "image/png": "[encoded data removed]",
      "text/plain": [
       "<Figure size 432x288 with 1 Axes>"
      ]
     },
     "metadata": {
      "needs_background": "light"
     },
     "output_type": "display_data"
    },
    {
     "name": "stdout",
     "output_type": "stream",
     "text": [
      "320.0\n"
     ]
    },
    {
     "data": {
      "image/png": "[encoded data removed]",
      "text/plain": [
       "<Figure size 432x288 with 1 Axes>"
      ]
     },
     "metadata": {
      "needs_background": "light"
     },
     "output_type": "display_data"
    },
    {
     "name": "stdout",
     "output_type": "stream",
     "text": [
      "75.0\n"
     ]
    },
    {
     "data": {
      "image/png": "[encoded data removed]",
      "text/plain": [
       "<Figure size 432x288 with 1 Axes>"
      ]
     },
     "metadata": {
      "needs_background": "light"
     },
     "output_type": "display_data"
    },
    {
     "name": "stdout",
     "output_type": "stream",
     "text": [
      "40.0\n"
     ]
    },
    {
     "data": {
      "image/png": "[encoded data removed]",
      "text/plain": [
       "<Figure size 432x288 with 1 Axes>"
      ]
     },
     "metadata": {
      "needs_background": "light"
     },
     "output_type": "display_data"
    },
    {
     "name": "stdout",
     "output_type": "stream",
     "text": [
      "140.0\n"
     ]
    },
    {
     "data": {
      "image/png": "[encoded data removed]",
      "text/plain": [
       "<Figure size 432x288 with 1 Axes>"
      ]
     },
     "metadata": {
      "needs_background": "light"
     },
     "output_type": "display_data"
    }
   ],
   "source": [
    "def find_median(column_data:pd.DataFrame) -> list[float, pd.DataFrame]:\n",
    "    sort_column = column_data.sort_values()\n",
    "    height = sort_column.shape[0]\n",
    "    med = sort_column.iloc[height//2] if height%2 else (sort_column.iloc[height//2] + sort_column.iloc[height//2 - 1])/2\n",
    "    return med, sort_column\n",
    "\n",
    "def find_interquarter_range(column_data):\n",
    "    med, sorted_column = find_median(column_data)\n",
    "    print(med)\n",
    "    quart_1, _ = find_median(sorted_column.iloc[: sorted_column.shape[0]//2])\n",
    "    quart_3, _ = find_median(sorted_column.iloc[sorted_column.shape[0]//2 :])\n",
    "\n",
    "    return med, quart_1, quart_3\n",
    "\n",
    "\n",
    "for column in data.columns[2:]:\n",
    "    med, quart1, quart3 = find_interquarter_range(data[column])\n",
    "    data[column] = (data[column] - med) / (quart3 - quart1)\n",
    "\n",
    "    data[column].hist()\n",
    "    plt.xlabel(column)\n",
    "    plt.show()"
   ]
  },
  {
   "cell_type": "code",
   "execution_count": 31,
   "metadata": {},
   "outputs": [
    {
     "data": {
      "text/html": [
       "<div>\n",
       "<style scoped>\n",
       "    .dataframe tbody tr th:only-of-type {\n",
       "        vertical-align: middle;\n",
       "    }\n",
       "\n",
       "    .dataframe tbody tr th {\n",
       "        vertical-align: top;\n",
       "    }\n",
       "\n",
       "    .dataframe thead th {\n",
       "        text-align: right;\n",
       "    }\n",
       "</style>\n",
       "<table border=\"1\" class=\"dataframe\">\n",
       "  <thead>\n",
       "    <tr style=\"text-align: right;\">\n",
       "      <th></th>\n",
       "      <th>Ceramic Name</th>\n",
       "      <th>Na2O</th>\n",
       "      <th>MgO</th>\n",
       "      <th>Al2O3</th>\n",
       "      <th>SiO2</th>\n",
       "      <th>K2O</th>\n",
       "      <th>CaO</th>\n",
       "      <th>TiO2</th>\n",
       "      <th>Fe2O3</th>\n",
       "      <th>MnO</th>\n",
       "      <th>CuO</th>\n",
       "      <th>ZnO</th>\n",
       "      <th>PbO2</th>\n",
       "      <th>Rb2O</th>\n",
       "      <th>SrO</th>\n",
       "      <th>Y2O3</th>\n",
       "      <th>ZrO2</th>\n",
       "    </tr>\n",
       "  </thead>\n",
       "  <tbody>\n",
       "    <tr>\n",
       "      <th>0</th>\n",
       "      <td>FLQ-b</td>\n",
       "      <td>0.6125</td>\n",
       "      <td>-0.096154</td>\n",
       "      <td>0.385617</td>\n",
       "      <td>0.482509</td>\n",
       "      <td>-0.179283</td>\n",
       "      <td>-0.307692</td>\n",
       "      <td>-0.166667</td>\n",
       "      <td>-0.395210</td>\n",
       "      <td>0.064</td>\n",
       "      <td>-1.0</td>\n",
       "      <td>-0.444444</td>\n",
       "      <td>-0.50</td>\n",
       "      <td>0.916667</td>\n",
       "      <td>-0.157895</td>\n",
       "      <td>0.0</td>\n",
       "      <td>-0.857143</td>\n",
       "    </tr>\n",
       "    <tr>\n",
       "      <th>1</th>\n",
       "      <td>FLQ-b</td>\n",
       "      <td>0.4875</td>\n",
       "      <td>0.250000</td>\n",
       "      <td>0.564553</td>\n",
       "      <td>0.024125</td>\n",
       "      <td>-0.067729</td>\n",
       "      <td>-0.284421</td>\n",
       "      <td>0.166667</td>\n",
       "      <td>-0.467066</td>\n",
       "      <td>-0.336</td>\n",
       "      <td>-0.5</td>\n",
       "      <td>-0.222222</td>\n",
       "      <td>0.25</td>\n",
       "      <td>0.916667</td>\n",
       "      <td>-0.178947</td>\n",
       "      <td>0.0</td>\n",
       "      <td>-0.571429</td>\n",
       "    </tr>\n",
       "  </tbody>\n",
       "</table>\n",
       "</div>"
      ],
      "text/plain": [
       "  Ceramic Name    Na2O       MgO     Al2O3      SiO2       K2O       CaO  \\\n",
       "0        FLQ-b  0.6125 -0.096154  0.385617  0.482509 -0.179283 -0.307692   \n",
       "1        FLQ-b  0.4875  0.250000  0.564553  0.024125 -0.067729 -0.284421   \n",
       "\n",
       "       TiO2     Fe2O3    MnO  CuO       ZnO  PbO2      Rb2O       SrO  Y2O3  \\\n",
       "0 -0.166667 -0.395210  0.064 -1.0 -0.444444 -0.50  0.916667 -0.157895   0.0   \n",
       "1  0.166667 -0.467066 -0.336 -0.5 -0.222222  0.25  0.916667 -0.178947   0.0   \n",
       "\n",
       "       ZrO2  \n",
       "0 -0.857143  \n",
       "1 -0.571429  "
      ]
     },
     "execution_count": 31,
     "metadata": {},
     "output_type": "execute_result"
    }
   ],
   "source": [
    "data.head(2)"
   ]
  },
  {
   "cell_type": "code",
   "execution_count": 50,
   "metadata": {},
   "outputs": [
    {
     "name": "stdout",
     "output_type": "stream",
     "text": [
      "['FLQ-b' 'DY-BS-b' 'DY-NS-b' 'DY-Y-b' 'DY-M-b' 'DY-QC-b' 'FLQ-g' 'DY-BS-g'\n",
      " 'DY-NS-g' 'DY-Y-g' 'DY-M-g' 'DY-QC-g']\n"
     ]
    }
   ],
   "source": [
    "import seaborn as sns\n",
    "priznaks= data.columns[1:]\n",
    "names = data[\"Ceramic Name\"].unique()\n",
    "print(names)\n",
    "def show_data(data:pd.DataFrame):\n",
    "    data_b = data[data[\"Ceramic Name\"].isin(names[:6])]\n",
    "    data_g = data[data[\"Ceramic Name\"].isin(names[6:])]\n",
    "    # data2=\n",
    "    #Al2O3\n",
    "    #CaO\n",
    "    # colors = [plt.cm.tab10(i/float(len(categories)-1)) for i in range(len(categories))]\n",
    "\n",
    "    fig, axs = plt.subplots(nrows= 40 , ncols= 3, figsize=(50, 300))\n",
    "    count = -1\n",
    "    for i in range(len(priznaks)-1):\n",
    "        for j in range(i+1, len(priznaks)):\n",
    "            count+=1\n",
    "            for ind, category in enumerate(names[:6]):\n",
    "                axs[count//3, count%3].scatter(priznaks[i], priznaks[j], data=data_b.loc[(data_b[\"Ceramic Name\"] == category)], label=str(category))\n",
    "\n",
    "            axs[count//3, count%3].set_xlabel(priznaks[i])\n",
    "            axs[count//3, count%3].set_ylabel(priznaks[j])\n",
    "            axs[count//3, count%3].legend()\n",
    "        #print(priznaks[i], priznaks[j], count)\n",
    "\n",
    "# sns.FacetGrid(data, hue=\"Ceramic Name\", height=5) \\\n",
    "#    .map(plt.scatter, 'sepal length (cm)', 'sepal width (cm)') \\\n",
    "#    .add_legend()\n",
    "# plt.show()"
   ]
  },
  {
   "cell_type": "code",
   "execution_count": null,
   "metadata": {},
   "outputs": [],
   "source": [
    "import numpy as np\n",
    "# otv_points = {str(i): lambda x, i=i: x == i for i in range(4)}\n",
    "# otv_points[\"0\"](0)\n",
    "\n",
    "# a = []\n",
    "\n",
    "# b = np.array([1,2,3,4])\n",
    "# a+=[b]\n",
    "# a\n",
    "\n",
    "# a = np.array([[1,2,3], [-19,2,3], [3,2,3], [-1,2,3]])\n",
    "# dists = np.array([[1,2,3,4], [5, 3,2,3], [5,2,4,3], [-1,5,2,3]])\n",
    "# max_arg = np.argmax(dists)//dists.shape[1]\n",
    "# print(max_arg)\n",
    "# already_selected_inds = [max_arg]\n",
    "# already_selected_inds += [np.argmax(np.delete(dists, already_selected_inds, axis=0))]\n",
    "# #print(np.delete(dists, already_selected_inds, axis=0))\n",
    "# print(already_selected_inds)\n",
    "#print(a[max_arg//len(dists[0]),:])\n",
    "# print(dists[np.random.randint(0, len(dists)), :])\n",
    "# print(a.mean(axis=0))\n",
    "# print(a.shape)\n",
    "#print(a[np.argmin(dists, axis=1) == 0])\n",
    "\n",
    "# #Дико прикольная фигня\n",
    "# otv = {str(i):lambda x, i=i: np.argmin(x, axis=1) == i for i in range(3)}\n",
    "# #a[otv[\"2\"](a)]\n",
    "# claster_points = {str(i): a[np.argmin(dists, axis=1) == i] for i in range(4)}\n",
    "# print(claster_points)\n",
    "# a = list(claster_points.values())\n",
    "# #print(np.array([b.mean(axis=0) for b in list(claster_points.values())]))\n",
    "\n",
    "# # np.abs(np.array([[1,2,3]]) - np.array([[100,2,3]]))\n",
    "# np.random.randint(0, 100)\n",
    "\n",
    "a = [[i, 10] for i in range(10) if i>100]\n",
    "print(a)\n",
    "for i in a:\n",
    "    if len(a)<100:\n",
    "        a += b\n",
    "    \n",
    "    print(a)\n",
    "    print(i)\n"
   ]
  },
  {
   "cell_type": "code",
   "execution_count": 25,
   "metadata": {},
   "outputs": [],
   "source": [
    "\n",
    "class K_mean_plus:\n",
    "    def __init__(self, k:int):\n",
    "        self.k = k\n",
    "        self.delta = 0.004\n",
    "        self.centroids = None\n",
    "\n",
    "    #Переписать для kmean++\n",
    "    def get_random_centroids(self, data:pd.DataFrame):\n",
    "        centr = data.sample(n = self.k)\n",
    "        return self.data_to_numpy(centr)\n",
    "\n",
    "    def data_to_numpy(self, data):\n",
    "        data = np.array(data, dtype=np.float64)\n",
    "        return np.array([[i, point] for i, point in enumerate(data)], dtype=list)\n",
    "\n",
    "    # TODO ПЕРЕПИСАТЬ ТАК, ЧТОБЫ СОХРАНЯТЬ ИНДЕКСЫ ТОЧЕК\n",
    "    def calc_dists(self, centroids:np.array, data:np.array):\n",
    "        return np.array([[[i, np.sqrt(np.sum((centroid[1] - point[1])**2))] for centroid in centroids] for i, point in enumerate(data)], dtype=np.float64)\n",
    "\n",
    "\n",
    "    #можно переписать более по нампаевски Переписано\n",
    "    def points_to_centroids(self, dists:np.array, points:np.array, now_k:int):\n",
    "        claster_points = {str(i): points[np.argmin(dists, axis=1) == i] for i in range(now_k)}\n",
    "        # claster_points = {str(i): [] for i in range(self.k)}\n",
    "        # for dist in dists:\n",
    "        #     argm = np.argmax(dist)\n",
    "        #     claster_points[str(argm)] += [dist]\n",
    "        return claster_points\n",
    "\n",
    "    def calc_max_dist_point(self, centroids_points:dict, centroids:np.array):\n",
    "\n",
    "        max_arg = 0\n",
    "        max_point = None\n",
    "        for cent_ind, clast_points in centroids_points.items():\n",
    "            clast_dists = self.calc_dists(centroids=[centroids[int(cent_ind)]], data=clast_points)\n",
    "            now_max_arg = np.argmax(clast_dists[:,:,1])\n",
    "        \n",
    "            if now_max_arg>max_arg:\n",
    "                max_arg = now_max_arg\n",
    "                max_point = clast_points[now_max_arg, :]\n",
    "        return max_point\n",
    "\n",
    "\n",
    "    def get_k_plus_plus_centroids(self, points:np.array):\n",
    "        centroids= [points[np.random.randint(0, len(points)), :]]\n",
    "\n",
    "        for i in range(self.k - 1):\n",
    "            dists = self.calc_dists(centroids=centroids, data=points)\n",
    "            cent_points = self.points_to_centroids(dists=dists[:,:,1], points=points, now_k=i+1)\n",
    "            centroids+=[self.calc_max_dist_point(centroids_points=cent_points, centroids=centroids)]\n",
    "\n",
    "        return np.array(centroids, dtype=list)\n",
    "    \n",
    "    def calc_new_centroids_pos(self, centroids_points:dict):\n",
    "        # print([points.mean(axis=0) for points in list(centroids_points.values())])\n",
    "        return np.array([points.mean(axis=0) for points in list(centroids_points.values())], dtype=list)\n",
    "\n",
    "    def fit(self, data:pd.DataFrame):\n",
    "        # self.centroids = self.get_random_centroids(data=data)\n",
    "        num_data = self.data_to_numpy(data=data)\n",
    "        self.centroids =  self.get_k_plus_plus_centroids(points = num_data)\n",
    "        flag = True\n",
    "        while flag:\n",
    "            dists = self.calc_dists(centroids=self.centroids, data=num_data)\n",
    "            cent_points = self.points_to_centroids(dists=dists[:,:,1], points=num_data, now_k=self.k)\n",
    "            new_centroids = self.calc_new_centroids_pos(centroids_points = cent_points)\n",
    "            print(f\"all_distance is: {np.sum(np.sum(np.abs(self.centroids[:,1] - new_centroids[:,1])))}\")\n",
    "            if np.sum(np.sum(np.abs(self.centroids[:,1] - new_centroids[:,1]))) < self.delta:\n",
    "                flag = False\n",
    "\n",
    "            self.centroids = new_centroids\n",
    "\n",
    "    def predict(self, X:pd.DataFrame):\n",
    "        num_data = self.data_to_numpy(data=X)\n",
    "        dists = self.calc_dists(centroids=self.centroids, data=num_data)\n",
    "        cent_points = self.points_to_centroids(dists=dists[:,:,1], points=num_data, now_k=self.k)\n",
    "        return cent_points\n",
    "    \n",
    "    def drow(self, claster_names:pd.DataFrame, k_means_otvs:dict, claster_unic_names:list):\n",
    "        real_class = [[0 for i in range(len(claster_unic_names))] for j in range(len(k_means_otvs))]\n",
    "\n",
    "        for k_means_claster_name, claster_points in k_means_otvs.items():\n",
    "            for i, claster_u_name in enumerate(claster_unic_names):\n",
    "                real_class[int(k_means_claster_name)][i] = np.sum(claster_names.iloc[claster_points[:,0]] == claster_u_name)\n",
    "        real_class = np.array(real_class)\n",
    "        \n",
    "        klass_elems = np.sum(real_class, axis=0) # количество элементов класса\n",
    "        klaster_elems = np.sum(real_class, axis=1) # Общее количество элементов в данном кластере\n",
    "\n",
    "        bcp_matrix = real_class**2/klaster_elems[:, None]\n",
    "        bcp_classes = np.sum(bcp_matrix, axis=0)/klass_elems\n",
    "        bcr_matrix = real_class**2/klass_elems\n",
    "        bcr_classes = np.sum(bcr_matrix, axis=0)/klass_elems\n",
    "        weighted_average = (bcp_classes + bcr_classes)/2\n",
    "        print(f\"{real_class}\")\n",
    "        #Точность предсказанных точек\n",
    "        print(f\"bcp_classes: {bcp_classes}\")\n",
    "        #Полнота для предсказанных точек\n",
    "        print(f\"bcr_classes: {bcr_classes}\")\n",
    "        print(f\"weighted_average: {weighted_average}\")"
   ]
  },
  {
   "cell_type": "code",
   "execution_count": 127,
   "metadata": {},
   "outputs": [
    {
     "name": "stdout",
     "output_type": "stream",
     "text": [
      "[[1]\n",
      " [2]\n",
      " [3]]\n",
      "[[ 1.  2.  3.]\n",
      " [ 4.  8. 12.]\n",
      " [ 9. 18. 27.]]\n"
     ]
    }
   ],
   "source": [
    "import numpy as np\n",
    "a = np.array([[1,2,3], [2,4,6], [3,6,9]])\n",
    "b = np.array([1,2,3])\n",
    "print(b[:, None])\n",
    "print(((a**2).T)/(b))"
   ]
  },
  {
   "cell_type": "code",
   "execution_count": 26,
   "metadata": {},
   "outputs": [
    {
     "name": "stdout",
     "output_type": "stream",
     "text": [
      "all_distance is: 22.671518115107446\n",
      "all_distance is: 2.4639180392040076\n",
      "all_distance is: 2.4418943400893895\n",
      "all_distance is: 0.5475741912939587\n",
      "all_distance is: 0.8515910912052179\n",
      "all_distance is: 0.9494952011707071\n",
      "all_distance is: 0.8948405392897736\n",
      "all_distance is: 0.8158364284900584\n",
      "all_distance is: 0.7138350744003223\n",
      "all_distance is: 0.0\n",
      "[[43  0]\n",
      " [ 1 44]]\n",
      "bcp_classes: [0.97777778 0.97777778]\n",
      "bcr_classes: [0.95557851 1.        ]\n",
      "weighted_average: [0.96667815 0.98888889]\n"
     ]
    }
   ],
   "source": [
    "data_otv = data[\"Part\"]\n",
    "data_claster = data.drop([\"Part\", \"Ceramic Name\"], axis= 1 , inplace= False)\n",
    "unic_names = data[\"Part\"].unique()\n",
    "\n",
    "a = K_mean_plus(k=2)\n",
    "a.fit(data_claster)\n",
    "otvs = a.predict(data_claster)\n",
    "a.drow(claster_names = data_otv, k_means_otvs = otvs, claster_unic_names = unic_names)"
   ]
  },
  {
   "attachments": {},
   "cell_type": "markdown",
   "metadata": {},
   "source": [
    "# Визуализация kmeans++\n"
   ]
  },
  {
   "cell_type": "code",
   "execution_count": null,
   "metadata": {},
   "outputs": [],
   "source": [
    "import numpy as np\n",
    "a = np.array([[1,2],[2,4],[3,21]])\n",
    "print([1,2] in a)\n",
    "\n",
    "b = np.fromiter((x for x in a if x in [1,3]), dtype=np.float64)\n",
    "print(b)\n",
    "print([[1,2,3,4]])\n",
    "# print(a.shape)\n",
    "\n",
    "# for i in range(a.shape[0]):\n",
    "#     if a.shape[0]<20:\n",
    "#         a = np.vstack((a,a))\n",
    "#     # print(a)\n",
    "\n",
    "# a[[0,2]]"
   ]
  },
  {
   "cell_type": "code",
   "execution_count": null,
   "metadata": {},
   "outputs": [],
   "source": [
    "import matplotlib.pyplot as plt\n",
    "\n",
    "plt.scatter([1,2,3,4,5,6], [1,2,3,4,5,6])\n",
    "plt.scatter([1,2,3,4,5,6], [1,2,3,4,5,6][::-1])"
   ]
  },
  {
   "attachments": {},
   "cell_type": "markdown",
   "metadata": {},
   "source": [
    "# DBSCAN\n"
   ]
  },
  {
   "cell_type": "code",
   "execution_count": 27,
   "metadata": {},
   "outputs": [],
   "source": [
    "class DBScan:\n",
    "    def __init__(self, num_neib, max_dist):\n",
    "        self.num_neib = num_neib\n",
    "        self.max_dist = max_dist\n",
    "        self.groups = []\n",
    "        self.red_flags = set()\n",
    "\n",
    "        #Для не наивной реализации\n",
    "        self.karandash = dict()\n",
    "    \n",
    "    \n",
    "    def data_to_numpy(self, data:pd.DataFrame):\n",
    "        return np.array(data, dtype=np.float64)\n",
    "\n",
    "\n",
    "    def data_save_inds(self, data:np.array):\n",
    "        return np.array([[i, point] for i, point in enumerate(data)], dtype=list)\n",
    "    \n",
    "\n",
    "    def del_point(self, points_to_del_ind:int):\n",
    "        points_to_del_ind = np.array([points_to_del_ind]).reshape(-1)\n",
    "        self.points_indexs_queue  = np.fromiter((point_ind for point_ind in self.points_indexs_queue if point_ind not in points_to_del_ind), dtype=int)\n",
    "\n",
    "\n",
    "    def get_random_point(self, points_inds:np.array):\n",
    "        now_ind = np.random.choice(points_inds)\n",
    "        return (self.points_queue[now_ind][0], self.points_queue[now_ind][1])\n",
    "\n",
    "\n",
    "    def search_neibs(self, now_point:np.array, points:np.array):\n",
    "        # np.array([[point_ind, np.sqrt(np.sum((now_point - point)**2)), point] for point_ind, point in points if np.sqrt(np.sum((now_point - point)**2)) < self.max_dist], dtype=list)\n",
    "        return [[point_ind, point] for point_ind, point in points if np.sqrt(np.sum((now_point - point)**2)) < self.max_dist]\n",
    "\n",
    "\n",
    "\n",
    "    def check_group(self, neibs:list):\n",
    "        #TODO Почему-то разбивает точки одного кластера на разные\n",
    "        #Потому, что нампаевское объединение не прибавляет к существующему массиву, а создаёт новый\n",
    "        for point_ind, neib in neibs:\n",
    "            self.del_point(points_to_del_ind=point_ind)\n",
    "            #посмотреть что можно сделать с point_ind и таким образлм связать его с жёлтыми индексами\n",
    "            \n",
    "            #добавляем соседа в любом случае, если он контачит с зелёным, не важно, жёлтый он или нет. Вот это нужно будет переписать\n",
    "            #в случае создания логики основанной на расстоянии до ближайшего зелёного\n",
    "            self.groups[-1] += [point_ind]\n",
    "            # now_neibs = self.search_neibs(now_point=neib, points=self.points_queue[self.points_indexs_queue])\n",
    "            now_neibs = self.search_neibs(now_point=neib, points=self.points_queue)\n",
    "            #Если и эта точка является зелёной, то добавляем её соседей в список, который необходимо обойти\n",
    "            if len(now_neibs) >= self.num_neib:\n",
    "                \n",
    "                #находим соседей, которые ещё не находятся в очереди на обработку\n",
    "                soseds_to_add = [sosed for sosed in  now_neibs if ((sosed[0] not in np.array(neibs, dtype=list)[:,0] ) and (sosed[0] in self.points_indexs_queue))]\n",
    "\n",
    "                if len(soseds_to_add):\n",
    "                    neibs += soseds_to_add\n",
    "                \n",
    "            #если уже находили эту точку ранее и она оказалась в жёлтых - удаляем её оттуда.\n",
    "            else:\n",
    "                self.karandash.pop(str(point_ind), None)\n",
    "    \n",
    "\n",
    "    def fit(self, points:pd.DataFrame):\n",
    "        self.points = self.data_to_numpy(data=points)\n",
    "        self.points_queue = self.data_to_numpy(data=points)\n",
    "        self.points_indexs_queue = np.arange(self.points_queue.shape[0])\n",
    "        self.points_queue =self.data_save_inds(data=self.points_queue)\n",
    "\n",
    "        while len(self.points_indexs_queue):\n",
    "            \n",
    "            #вот тут приколы с бесконечным выбором одного и той же жёлтой точки\n",
    "            point_ind, now_point = self.get_random_point(self.points_indexs_queue)\n",
    "            self.del_point(points_to_del_ind=point_ind)\n",
    "\n",
    "\n",
    "            # print(point_ind, now_point)\n",
    "            # print(self.points_indexs_queue)\n",
    "            # neibs = self.search_neibs(now_point=now_point, points = self.points_queue[self.points_indexs_queue])\n",
    "            # Реально сводит количество наблюдений к нормальному числу self.points_queue[self.points_indexs_queue]\n",
    "            neibs = self.search_neibs(now_point=now_point, points = self.points_queue[self.points_indexs_queue])\n",
    "            if len(neibs) < self.num_neib:\n",
    "                #наивная реализация. В случае отношения точки к жёлтым флагам, она присвоится к тому кластеру, который найдёт её первым\n",
    "                if len(neibs)==0:\n",
    "                    self.red_flags.update([point_ind])\n",
    "                else:\n",
    "                    self.karandash.update({str(point_ind): now_point})\n",
    "\n",
    "                #Скорее всего здесь не обрабатываются точки рядом с которыми что-то есть, но их меньще чем self.num_neib\n",
    "            else:\n",
    "                self.groups += [[point_ind]]\n",
    "                self.check_group(neibs=neibs)\n",
    "        \n",
    "        self.red_flags.update(list(self.karandash.keys()))\n",
    "        self.red_flags = [int(i) for i in self.red_flags]\n",
    "\n",
    "\n",
    "    def drow(self):\n",
    "        for group in self.groups:\n",
    "            # print(\"hahahahahaaha\")\n",
    "            # print(self.points[group])\n",
    "            # print(\"+++++++++++++++++++++++++++++++++++++++++++++++++++++++++\")\n",
    "            plt.scatter(self.points[group][:,0], self.points[group][:,1])\n",
    "        \n",
    "        # print(\"RED FLAAAAAAG\", self.red_flags)\n",
    "        plt.scatter(self.points[self.red_flags][:,0], self.points[self.red_flags][:,1])\n",
    "        plt.show()\n",
    "\n",
    "\n",
    "    def calk_acc(self, claster_names:pd.DataFrame, claster_unic_names:list):                #+1 так как есть redflag\n",
    "            real_class = [[0 for i in range(len(claster_unic_names))] for j in range(len(self.groups) +1)]\n",
    "\n",
    "            for g_ind, group in enumerate(self.groups + [self.red_flags]):\n",
    "                print(group)\n",
    "                print()\n",
    "                for i, claster_u_name in enumerate(claster_unic_names):\n",
    "                    real_class[g_ind][i] = np.sum(claster_names.iloc[group] == claster_u_name)\n",
    "            real_class = np.array(real_class)\n",
    "            \n",
    "            klass_elems = np.sum(real_class, axis=0) # количество элементов класса\n",
    "            klaster_elems = np.sum(real_class, axis=1) # Общее количество элементов в данном кластере\n",
    "\n",
    "            bcp_matrix = real_class**2/klaster_elems[:, None]\n",
    "            bcp_classes = np.sum(bcp_matrix[:-1], axis=0)/klass_elems\n",
    "            bcr_matrix = real_class**2/klass_elems\n",
    "            bcr_classes = np.sum(bcr_matrix[:-1], axis=0)/klass_elems\n",
    "            weighted_average = (bcp_classes + bcr_classes)/2\n",
    "            # print(f\"{real_class}\")\n",
    "            print(f\"bcp_classes: {bcp_classes}\")\n",
    "            print(f\"bcr_classes: {bcr_classes}\")\n",
    "            print(f\"weighted_average: {weighted_average}\")\n"
   ]
  },
  {
   "cell_type": "code",
   "execution_count": 49,
   "metadata": {},
   "outputs": [
    {
     "name": "stdout",
     "output_type": "stream",
     "text": [
      "  Ceramic Name  Part    Na2O       MgO     Al2O3      SiO2       K2O  \\\n",
      "0        FLQ-b  Body  0.6125 -0.096154  0.385617  0.482509 -0.179283   \n",
      "1        FLQ-b  Body  0.4875  0.250000  0.564553  0.024125 -0.067729   \n",
      "2        FLQ-b  Body  0.2875 -0.826923  0.271234  1.136309 -1.270916   \n",
      "\n",
      "        CaO      TiO2     Fe2O3    MnO  CuO       ZnO  PbO2      Rb2O  \\\n",
      "0 -0.307692 -0.166667 -0.395210  0.064 -1.0 -0.444444 -0.50  0.916667   \n",
      "1 -0.284421  0.166667 -0.467066 -0.336 -0.5 -0.222222  0.25  0.916667   \n",
      "2 -0.292178 -0.333333 -0.526946 -0.272 -0.5 -0.888889  0.50  0.500000   \n",
      "\n",
      "        SrO  Y2O3      ZrO2  \n",
      "0 -0.157895   0.0 -0.857143  \n",
      "1 -0.178947   0.0 -0.571429  \n",
      "2 -0.073684   0.0 -0.857143  \n"
     ]
    },
    {
     "data": {
      "image/png": "[encoded data removed]",
      "text/plain": [
       "<Figure size 432x288 with 1 Axes>"
      ]
     },
     "metadata": {
      "needs_background": "light"
     },
     "output_type": "display_data"
    },
    {
     "name": "stdout",
     "output_type": "stream",
     "text": [
      "[14, 27, 29, 32, 36, 37, 38, 39, 40, 41, 43, 16, 17, 18, 19, 26, 33, 35, 20, 15, 28, 13, 25, 1, 12, 8, 21, 9, 30, 22, 0, 2, 3, 4, 5, 6, 7, 11, 46, 50, 31, 54, 44, 53, 55, 56, 85, 45, 49, 60, 64, 65, 72, 74, 75, 78, 86, 87, 59, 63, 66, 80, 83, 61, 70, 67, 69, 62, 68, 79, 84, 58, 76]\n",
      "\n",
      "[34, 71, 73, 42, 10, 77, 47, 48, 81, 82, 51, 52, 23, 24, 57]\n",
      "\n",
      "bcp_classes: [0.47353674 0.35990037]\n",
      "bcr_classes: [0.7856405  0.59710744]\n",
      "weighted_average: [0.62958862 0.47850391]\n"
     ]
    }
   ],
   "source": [
    "from sklearn import datasets\n",
    "import pandas as pd\n",
    "import seaborn as sns\n",
    "import matplotlib.pyplot as plt\n",
    "\n",
    "# iris = datasets.load_iris()\n",
    "# # dataset = [(iris.data[i][None, ...], iris.target[i]) for i in range(len(iris.target))]\n",
    "# # dataset\n",
    "# iris = pd.DataFrame(data= np.c_[iris['data'], iris['target']],\n",
    "#                      columns= iris['feature_names'] + ['target'])\n",
    "# print(iris.shape)\n",
    "# # iris.plot(kind=\"scatter\", x='sepal length (cm)', y='sepal width (cm)')\n",
    "\n",
    "# # sns.jointplot(x='sepal length (cm)', y='sepal width (cm)', data=iris, size=5)\n",
    "# iris.head(3)\n",
    "# sns.FacetGrid(iris, hue=\"target\", height=5) \\\n",
    "#    .map(plt.scatter, 'sepal length (cm)', 'sepal width (cm)') \\\n",
    "#    .add_legend()\n",
    "# plt.show()\n",
    "\n",
    "# iris\n",
    "# a = DBScan(num_neib=3, max_dist=120)\n",
    "# a.fit(points=iris[['sepal length (cm)', 'sepal width (cm)']])\n",
    "# data_otv = iris[\"target\"]\n",
    "# print(data_otv)\n",
    "# unic_names = iris[\"target\"].unique()\n",
    "# print(unic_names)\n",
    "\n",
    "\n",
    "a = DBScan(num_neib=3, max_dist=2.36)\n",
    "print(data.head(3))\n",
    "data_claster = data.drop([\"Ceramic Name\", \"Part\"], axis= 1 , inplace= False)\n",
    "a.fit(data_claster)\n",
    "data_otv = data[\"Part\"]\n",
    "data_claster = data.drop([\"Ceramic Name\", \"Part\"], axis= 1 , inplace= False)\n",
    "unic_names = data[\"Part\"].unique()\n",
    "a.drow()\n",
    "a.calk_acc(claster_names=data_otv, claster_unic_names=unic_names)"
   ]
  }
 ],
 "metadata": {
  "kernelspec": {
   "display_name": "base",
   "language": "python",
   "name": "python3"
  },
  "language_info": {
   "codemirror_mode": {
    "name": "ipython",
    "version": 3
   },
   "file_extension": ".py",
   "mimetype": "text/x-python",
   "name": "python",
   "nbconvert_exporter": "python",
   "pygments_lexer": "ipython3",
   "version": "3.9.12"
  },
  "orig_nbformat": 4,
  "vscode": {
   "interpreter": {
    "hash": "b09ec625f77bf4fd762565a912b97636504ad6ec901eb2d0f4cf5a7de23e1ee5"
   }
  }
 },
 "nbformat": 4,
 "nbformat_minor": 2
}
